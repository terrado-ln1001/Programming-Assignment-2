{
 "cells": [
  {
   "cell_type": "code",
   "execution_count": 1,
   "metadata": {},
   "outputs": [],
   "source": [
    "import numpy as np"
   ]
  },
  {
   "cell_type": "code",
   "execution_count": 5,
   "metadata": {},
   "outputs": [
    {
     "name": "stdout",
     "output_type": "stream",
     "text": [
      "Original x: \n",
      " [[0.98312072 0.55754224 0.54324473 0.80626609 0.95371957]\n",
      " [0.39788673 0.84075112 0.36706528 0.89294645 0.94374134]\n",
      " [0.93058163 0.6579099  0.28755047 0.46115133 0.47171002]\n",
      " [0.56402217 0.05587221 0.93059603 0.52263247 0.60484175]\n",
      " [0.86216992 0.71035308 0.31826535 0.53833428 0.39075981]]\n",
      "\n",
      "Normalized x: \n",
      " [[ 1.45326658 -0.26760189 -0.32541529  0.73813746  1.33438012]\n",
      " [-0.91318467  0.87758107 -1.03781423  1.08863803  1.29403217]\n",
      " [ 1.2408196   0.13824459 -1.35934018 -0.65736803 -0.61467292]\n",
      " [-0.24139968 -2.29615401  1.24087783 -0.40876298 -0.07634167]\n",
      " [ 0.96419011  0.35030376 -1.23514154 -0.34527117 -0.94200305]]\n"
     ]
    }
   ],
   "source": [
    "#Normalization Problem\n",
    "x = np.random.rand(5, 5)\n",
    "x_normalized = (x - x.mean()) / x.std()\n",
    "\n",
    "np.save (\"x_normalize.npy\", x_normalized)\n",
    "\n",
    "print(\"Original x: \\n\", x)\n",
    "print(\"\\nNormalized x: \\n\", x_normalized)\n"
   ]
  },
  {
   "cell_type": "code",
   "execution_count": 6,
   "metadata": {},
   "outputs": [],
   "source": [
    "#Divisible by 3 Problem\n",
    "x = np.arange(1, 101)\n",
    "squares = x ** 2\n",
    "A = squares.reshape(10, 10)\n",
    "div = A[A % 3 == 0]\n",
    "np.save(\"div\", div)"
   ]
  },
  {
   "cell_type": "code",
   "execution_count": 7,
   "metadata": {},
   "outputs": [
    {
     "name": "stdout",
     "output_type": "stream",
     "text": [
      "10 x 10 ndarray of squares: \n",
      " [[    1     4     9    16    25    36    49    64    81   100]\n",
      " [  121   144   169   196   225   256   289   324   361   400]\n",
      " [  441   484   529   576   625   676   729   784   841   900]\n",
      " [  961  1024  1089  1156  1225  1296  1369  1444  1521  1600]\n",
      " [ 1681  1764  1849  1936  2025  2116  2209  2304  2401  2500]\n",
      " [ 2601  2704  2809  2916  3025  3136  3249  3364  3481  3600]\n",
      " [ 3721  3844  3969  4096  4225  4356  4489  4624  4761  4900]\n",
      " [ 5041  5184  5329  5476  5625  5776  5929  6084  6241  6400]\n",
      " [ 6561  6724  6889  7056  7225  7396  7569  7744  7921  8100]\n",
      " [ 8281  8464  8649  8836  9025  9216  9409  9604  9801 10000]]\n",
      "\n",
      "Element divisible by 3: \n",
      " [   9   36   81  144  225  324  441  576  729  900 1089 1296 1521 1764\n",
      " 2025 2304 2601 2916 3249 3600 3969 4356 4761 5184 5625 6084 6561 7056\n",
      " 7569 8100 8649 9216 9801]\n"
     ]
    }
   ],
   "source": [
    "print(\"10 x 10 ndarray of squares: \\n\", A)\n",
    "print(\"\\nElement divisible by 3: \\n\", div)"
   ]
  },
  {
   "cell_type": "code",
   "execution_count": null,
   "metadata": {},
   "outputs": [],
   "source": []
  }
 ],
 "metadata": {
  "kernelspec": {
   "display_name": "Python 3 (ipykernel)",
   "language": "python",
   "name": "python3"
  },
  "language_info": {
   "codemirror_mode": {
    "name": "ipython",
    "version": 3
   },
   "file_extension": ".py",
   "mimetype": "text/x-python",
   "name": "python",
   "nbconvert_exporter": "python",
   "pygments_lexer": "ipython3",
   "version": "3.11.0"
  }
 },
 "nbformat": 4,
 "nbformat_minor": 4
}
